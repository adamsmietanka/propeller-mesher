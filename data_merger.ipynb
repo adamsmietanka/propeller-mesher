{
 "cells": [
  {
   "cell_type": "code",
   "execution_count": 5,
   "metadata": {},
   "outputs": [],
   "source": [
    "import pandas as pd\n",
    "import numpy as np\n",
    "from functools import reduce\n",
    "import os\n",
    "from scipy.interpolate import griddata\n",
    "from scipy.interpolate.interpolate import interp1d\n",
    "import plotly.graph_objects as go\n"
   ]
  },
  {
   "cell_type": "code",
   "execution_count": 6,
   "metadata": {},
   "outputs": [],
   "source": [
    "def merge_data():\n",
    "    merged = pd.DataFrame()\n",
    "    directory = r'data\\mesh'\n",
    "    for file in os.listdir(directory):\n",
    "        if file.endswith('.csv'):\n",
    "            path = os.path.join(directory, file)\n",
    "            df = pd.read_csv(path)\n",
    "            df['blades'] = file.split('_')[1]\n",
    "            df['chart'] = file[:-4].split('_')[2]\n",
    "            if (df.blades != '3s').all():\n",
    "                merged = merged.append(df)\n",
    "    merged = merged.round({'x': 3, 'z': 4})\n",
    "    return merged.reset_index(drop=True)\n",
    "\n",
    "def save_data(df):\n",
    "    df.to_csv(r'C:\\Users\\adams\\PycharmProjects\\SciApp\\calculator\\mesh.csv', index_label='id')"
   ]
  },
  {
   "cell_type": "code",
   "execution_count": 7,
   "metadata": {
    "pycharm": {
     "name": "#%%\n"
    }
   },
   "outputs": [
    {
     "data": {
      "text/plain": "           x     y       z blades chart\n0      0.000  10.0  0.0144      2    cp\n1      0.000  11.0  0.0199      2    cp\n2      0.000  12.0  0.0253      2    cp\n3      0.000  13.0  0.0305      2    cp\n4      0.000  14.0  0.0355      2    cp\n...      ...   ...     ...    ...   ...\n24880  4.447  59.5  0.0000      4   eff\n24881  4.447  60.0  0.1490      4   eff\n24882  4.534  59.0  0.0000      4   eff\n24883  4.534  59.5  0.0000      4   eff\n24884  4.534  60.0  0.0000      4   eff\n\n[24885 rows x 5 columns]",
      "text/html": "<div>\n<style scoped>\n    .dataframe tbody tr th:only-of-type {\n        vertical-align: middle;\n    }\n\n    .dataframe tbody tr th {\n        vertical-align: top;\n    }\n\n    .dataframe thead th {\n        text-align: right;\n    }\n</style>\n<table border=\"1\" class=\"dataframe\">\n  <thead>\n    <tr style=\"text-align: right;\">\n      <th></th>\n      <th>x</th>\n      <th>y</th>\n      <th>z</th>\n      <th>blades</th>\n      <th>chart</th>\n    </tr>\n  </thead>\n  <tbody>\n    <tr>\n      <th>0</th>\n      <td>0.000</td>\n      <td>10.0</td>\n      <td>0.0144</td>\n      <td>2</td>\n      <td>cp</td>\n    </tr>\n    <tr>\n      <th>1</th>\n      <td>0.000</td>\n      <td>11.0</td>\n      <td>0.0199</td>\n      <td>2</td>\n      <td>cp</td>\n    </tr>\n    <tr>\n      <th>2</th>\n      <td>0.000</td>\n      <td>12.0</td>\n      <td>0.0253</td>\n      <td>2</td>\n      <td>cp</td>\n    </tr>\n    <tr>\n      <th>3</th>\n      <td>0.000</td>\n      <td>13.0</td>\n      <td>0.0305</td>\n      <td>2</td>\n      <td>cp</td>\n    </tr>\n    <tr>\n      <th>4</th>\n      <td>0.000</td>\n      <td>14.0</td>\n      <td>0.0355</td>\n      <td>2</td>\n      <td>cp</td>\n    </tr>\n    <tr>\n      <th>...</th>\n      <td>...</td>\n      <td>...</td>\n      <td>...</td>\n      <td>...</td>\n      <td>...</td>\n    </tr>\n    <tr>\n      <th>24880</th>\n      <td>4.447</td>\n      <td>59.5</td>\n      <td>0.0000</td>\n      <td>4</td>\n      <td>eff</td>\n    </tr>\n    <tr>\n      <th>24881</th>\n      <td>4.447</td>\n      <td>60.0</td>\n      <td>0.1490</td>\n      <td>4</td>\n      <td>eff</td>\n    </tr>\n    <tr>\n      <th>24882</th>\n      <td>4.534</td>\n      <td>59.0</td>\n      <td>0.0000</td>\n      <td>4</td>\n      <td>eff</td>\n    </tr>\n    <tr>\n      <th>24883</th>\n      <td>4.534</td>\n      <td>59.5</td>\n      <td>0.0000</td>\n      <td>4</td>\n      <td>eff</td>\n    </tr>\n    <tr>\n      <th>24884</th>\n      <td>4.534</td>\n      <td>60.0</td>\n      <td>0.0000</td>\n      <td>4</td>\n      <td>eff</td>\n    </tr>\n  </tbody>\n</table>\n<p>24885 rows × 5 columns</p>\n</div>"
     },
     "execution_count": 7,
     "metadata": {},
     "output_type": "execute_result"
    }
   ],
   "source": [
    "df = merge_data()\n",
    "save_data(df)\n",
    "df"
   ]
  }
 ],
 "metadata": {
  "kernelspec": {
   "name": "pycharm-22c45be",
   "language": "python",
   "display_name": "PyCharm (propeller-meshing)"
  },
  "language_info": {
   "codemirror_mode": {
    "name": "ipython",
    "version": 3
   },
   "file_extension": ".py",
   "mimetype": "text/x-python",
   "name": "python",
   "nbconvert_exporter": "python",
   "pygments_lexer": "ipython3",
   "version": "3.7.4"
  }
 },
 "nbformat": 4,
 "nbformat_minor": 2
}